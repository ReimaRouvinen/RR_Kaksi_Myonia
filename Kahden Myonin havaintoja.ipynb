{
 "cells": [
  {
   "cell_type": "markdown",
   "metadata": {},
   "source": [
    "# CMS ja avoin data - kahden myonin havaintoja"
   ]
  },
  {
   "cell_type": "markdown",
   "metadata": {},
   "source": [
    "CERN:n CMS-kokeessa törmäytetään protoneita toisiinsa ja tutkitaan, mitä hiukkasia törmäyksessä syntyy. Törmäystapahtumista kertyy valtava määrä dataa, jota on julkaistu myös avoimesti saataville <a href=\"http://opendata.web.cern.ch/search?page=1&size=20&experiment=CMS&experiment=ATLAS&type=Dataset&subtype=Derived&file_type=csv\">CERN:n avoin data portaalissa</a>. Tässä harjoituksessa tutustutaan siihen, mitä nämä datasetit sisältävät ja mitä niiden avulla voitaisiin selvittää. Tämä tarjoaa oppilaille mainion tilaisuuden kokeilla oikean tieteen metodeja autenttisilla mittaustuloksilla."
   ]
  },
  {
   "cell_type": "code",
   "execution_count": null,
   "metadata": {},
   "outputs": [],
   "source": [
    "# Aloitetaan hakemalla tarvittavat python-paketit import-komennolla\n",
    "# Voit suorittaa koodisolut Run-painikkeella\n",
    "\n",
    "import pandas as pd\n",
    "import matplotlib.pyplot as plt\n",
    "import numpy as np\n",
    "print(\"Python-paketit on nyt tuotu\")"
   ]
  },
  {
   "cell_type": "markdown",
   "metadata": {},
   "source": [
    "Haetaan data CERN:n avoin data portaalista, joka sisältää dataa törmäystapahtumista, joissa on havaittu kaksi myonia."
   ]
  },
  {
   "cell_type": "code",
   "execution_count": null,
   "metadata": {},
   "outputs": [],
   "source": [
    "# Luetaan datatiedoston sisältö ja tallennetaan tiedot muuttujaan kaksi_myonia\n",
    "# Voit myöhemmin valita tarkasteltavan datatiedoston asettamalla datatiedosto-muuttujan arvoksi luvun väliltä 1 - 7\n",
    "# Aloitetaan kuitenkin muuttujan arvolla 1\n",
    "\n",
    "datatiedosto = 1\n",
    "\n",
    "try:\n",
    "    if datatiedosto == 1:\n",
    "        kaksi_myonia = pd.read_csv('http://opendata.web.cern.ch/record/5201/files/Dimuon_DoubleMu.csv')\n",
    "        print(\"Tiedoston 1 lukeminen onnistui\")\n",
    "    elif datatiedosto == 2:\n",
    "        kaksi_myonia = pd.read_csv('http://opendata.web.cern.ch/record/5202/files/Dimuon_SingleMu.csv')\n",
    "        print(\"Tiedoston 2 lukeminen onnistui\")\n",
    "    elif datatiedosto == 3:    \n",
    "        kaksi_myonia = pd.read_csv('http://opendata.web.cern.ch/record/5208/files/Zmumu.csv')\n",
    "        print(\"Tiedoston 3 lukeminen onnistui\")\n",
    "    elif datatiedosto == 4:\n",
    "        kaksi_myonia = pd.read_csv('http://opendata.web.cern.ch/record/5203/files/Jpsimumu.csv')\n",
    "        print(\"Tiedoston 4 lukeminen onnistui\")\n",
    "    elif datatiedosto == 5:\n",
    "        kaksi_myonia = pd.read_csv('http://opendata.web.cern.ch/record/5206/files/Ymumu.csv')\n",
    "        print(\"Tiedoston 5 lukeminen onnistui\")\n",
    "    elif datatiedosto == 6:\n",
    "        kaksi_myonia = pd.read_csv('http://opendata.web.cern.ch/record/301/files/dimuon-Jpsi.csv')\n",
    "        print(\"Tiedoston 6 lukeminen onnistui\")\n",
    "    elif datatiedosto == 7:\n",
    "        kaksi_myonia = pd.read_csv('http://opendata.web.cern.ch/record/307/files/Zmumu.csv')\n",
    "        print(\"Tiedoston 7 lukeminen onnistui\")\n",
    "    else:\n",
    "        print(\"Tiedoston lukeminen ei onnistunut\")\n",
    "except:\n",
    "    print(\"Tiedoston lukeminen ei onnistunut\")"
   ]
  },
  {
   "cell_type": "code",
   "execution_count": null,
   "metadata": {},
   "outputs": [],
   "source": [
    "# Katsotaan, mitä kaksi_myonia-tiedoston ensimmäiset rivit sisältävät\n",
    "\n",
    "kaksi_myonia.head()"
   ]
  },
  {
   "cell_type": "markdown",
   "metadata": {},
   "source": [
    "Datatiedostossa näyttäisi olevan paljon tietoa. Jokainen rivi vastaa yhtä törmäystapahtumaa, jossa on havaittu kaksi myonia. Rivillä on aina mittausdataa molemmista havaitusta myonista. Esimerkiksi E tarkoittaa myonin energiaa ja p liikemäärää. \n",
    "\n",
    "Monet eri hiukkaset voivat hajota kahdeksi myoniksi ja alkuperäinen hiukkanen voidaan tunnistaa laskemalla myoneiden niin sanottu invariantti massa. Kaikissa aineistoissa ei valitettavasti ole valmiiksi laskettuna invarianttia massaa (M), joten lasketaan se itse kaavalla \n",
    "\n",
    "$M = \\sqrt{2p_{T1}p_{T2}(\\cosh(\\eta_1-\\eta_2)-\\cos(\\phi_1-\\phi_2))}.$\n",
    "\n",
    "Mikäli myonit olivat peräisin yhden hiukkasen hajoamisesta, myoneiden invariantti massa vastaa tämän hiukkasen massaa. Jos taas myonit eivät olleet peräisin samasta hiukkasesta, invariantin massan arvo ei merkitse mitään.\n",
    "\n",
    "Kun protonit törmäävät hiukkaskiihdyttimessä, vapautuu valtava määrä energiaa, joka muuttuu uusiksi hiukkasiksi. Törmäyksessä voisi syntyä esimerkiksi Z-bosoni, joka on kuitenkin niin lyhytikäinen, että se hajoaa nopeasti toisiksi hiukkasiksi, esimerkiksi kahdeksi myoniksi. Nämä myonit havaitaan hiukkasilmaisimessa ja myoneille lasketun invariantin massan avulla pääsemme käsiksi \"emohiukkasen\" eli tässä tapauksessa Z-bosonin massaan.\n",
    "\n",
    "Histogrammi on erinomainen työkalu hiukkasfysiikan tutkimuksessa. Tekemällä histogrammin invarianttien massojen arvosta, voimme erottaa merkityksettömistä taustatapahtumista ne tapahtumat, jotka ovat kiinnostavia. Eikun tutkimaan!"
   ]
  },
  {
   "cell_type": "code",
   "execution_count": null,
   "metadata": {},
   "outputs": [],
   "source": [
    "# Lasketaan invariantti massa\n",
    "invariantti_massa = np.sqrt(2*kaksi_myonia.pt1*kaksi_myonia.pt2*\n",
    "                           (np.cosh(kaksi_myonia.eta1-kaksi_myonia.eta2) \n",
    "                            - np.cos(kaksi_myonia.phi1-kaksi_myonia.phi2)))\n",
    "\n",
    "# Piirretään histogrammi kahden myonin invarianteista massoista\n",
    "fig = plt.figure(figsize=(10, 6))\n",
    "\n",
    "# Tällä komennolla valitaan histogrammin pylväiden lukumääräksi 300 ja\n",
    "# tarkasteltavaksi massa-alueeksi 0 GeV/c² - 250 GeV/c² \n",
    "plt.hist(invariantti_massa , bins=300, range=(0,250))\n",
    "\n",
    "# Näillä riveillä määritellään otsikko sekä akseleiden tekstit.\n",
    "plt.xlabel('Invariantti massa [GeV/c²]', fontsize=10)\n",
    "plt.ylabel('Tapahtumien lukumäärä', fontsize=10)\n",
    "plt.title('Kahden myonin invariantti massa', fontsize=12)\n",
    "\n",
    "# Näytetään kuvaaja\n",
    "plt.show()"
   ]
  },
  {
   "cell_type": "markdown",
   "metadata": {},
   "source": [
    "Tiedoston 1 aineistosta huomataan, että muutamilla invariantin massan arvoilla histogrammiin syntyy piikki. \n",
    "Nämä piikit vastaavat emohiukkasten massaa, joista kaksi myonia ovat peräisin. \n",
    "\n",
    "1. KOKEILE ITSE\n",
    "\n",
    "Tarkastele histogrammin väliä 85 GeV/c² - 100 GeV/c². \n",
    "\n",
    "Tämä tapahtuu asettamalla ylläolevassa python-solussa komennon plt.hist(invariantti_massa , bins=300, range=$\\textbf{(0,250)}$) lihavoitujen lukujen tilalle luvut 85 ja 100.\n",
    "\n",
    "Piikki näyttää olevan on 91 GeV/c²:n kohdalla joten hiukkanen, josta 2 myonia on syntynyt, on Z-bosoni.\n",
    "\n",
    "2. KOKEILE ITSE\n",
    "\n",
    "Käytä apuna alla olevaa luetteloa muutamasta mahdollisesta hiukkasesta sekä kuvaajaa mahdollisista hiukkasista ja tutki, mitä hiukkasia löydät mittauksesta 1 sekä mittauksista 2-7. \n",
    "\n",
    "Tämä tapahtuu vaihtamalla 2. ohjelmointisolussa datatiedosto-muuttujan arvoa ja piirtämällä uusia histogrammeja sopivasti rajattuina (range-määreen avulla). Kaikki python-solut saat suoritettua kerralla, kun valitset Cell-valikosta Run All.\n",
    "\n",
    "<img src = 'solu2a.jpg' align = 'left' width = 700>"
   ]
  },
  {
   "cell_type": "markdown",
   "metadata": {},
   "source": [
    "Esimerkkejä hiukkasista, joista voi syntyä 2 myonia:\n",
    "\n",
    "J/ψ (Psi/J): massa 3,1 GeV/c²\n",
    "\n",
    "ϒ (Ypsilon): massa 9,5 GeV/c²\n",
    "\n",
    "Z-bosoni: massa 91,2 GeV/c²\n",
    "\n",
    "\n",
    "<img src = 'DiMuon events.png' align = 'left'  width = 600>"
   ]
  }
 ],
 "metadata": {
  "kernelspec": {
   "display_name": "Python 3",
   "language": "python",
   "name": "python3"
  },
  "language_info": {
   "codemirror_mode": {
    "name": "ipython",
    "version": 3
   },
   "file_extension": ".py",
   "mimetype": "text/x-python",
   "name": "python",
   "nbconvert_exporter": "python",
   "pygments_lexer": "ipython3",
   "version": "3.8.5"
  }
 },
 "nbformat": 4,
 "nbformat_minor": 4
}
